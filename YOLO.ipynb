{
  "metadata": {
    "kernelspec": {
      "display_name": "Python 3",
      "name": "python3"
    },
    "language_info": {
      "pygments_lexer": "ipython3",
      "nbconvert_exporter": "python",
      "version": "3.6.4",
      "file_extension": ".py",
      "codemirror_mode": {
        "name": "ipython",
        "version": 3
      },
      "name": "python",
      "mimetype": "text/x-python"
    },
    "colab": {
      "provenance": [],
      "gpuType": "T4"
    },
    "accelerator": "GPU"
  },
  "nbformat_minor": 0,
  "nbformat": 4,
  "cells": [
    {
      "cell_type": "markdown",
      "source": [
        "# 1. Introduction\n"
      ],
      "metadata": {
        "id": "3k1Txf1vp1nV"
      }
    },
    {
      "cell_type": "code",
      "source": [
        "pip install keras"
      ],
      "metadata": {
        "colab": {
          "base_uri": "https://localhost:8080/"
        },
        "id": "zM4ERcSpcsqf",
        "outputId": "aea2b22f-0370-4177-8635-d2182b22a4d4"
      },
      "execution_count": null,
      "outputs": [
        {
          "output_type": "stream",
          "name": "stdout",
          "text": [
            "Requirement already satisfied: keras in /usr/local/lib/python3.10/dist-packages (2.15.0)\n"
          ]
        }
      ]
    },
    {
      "cell_type": "code",
      "source": [
        "import pandas as pd\n",
        "import numpy as np\n",
        "\n",
        "import matplotlib.pyplot as plt\n",
        "import seaborn as sns\n",
        "\n",
        "from sklearn.model_selection import train_test_split\n",
        "from sklearn.metrics import confusion_matrix\n",
        "\n",
        "import keras\n",
        "from keras.models import Sequential\n",
        "from keras.layers import Conv2D, Lambda, MaxPooling2D # convolution layers\n",
        "from keras.layers import Dense, Dropout, Flatten # core layers\n",
        "from tensorflow.keras.layers import BatchNormalization\n",
        "from keras.preprocessing.image import ImageDataGenerator\n",
        "\n",
        "from keras.utils import to_categorical\n",
        "\n"
      ],
      "metadata": {
        "_uuid": "0f935bddcc5ca02702578e712bf7f396ba7154ef",
        "execution": {
          "iopub.status.busy": "2023-05-30T13:35:07.139049Z",
          "iopub.execute_input": "2023-05-30T13:35:07.139351Z",
          "iopub.status.idle": "2023-05-30T13:35:09.390491Z",
          "shell.execute_reply.started": "2023-05-30T13:35:07.139296Z",
          "shell.execute_reply": "2023-05-30T13:35:09.389583Z"
        },
        "trusted": true,
        "id": "b39kNGuGp1nW"
      },
      "execution_count": null,
      "outputs": []
    },
    {
      "cell_type": "markdown",
      "source": [
        "# 2. Data preparation\n",
        "## 2.1 Load data"
      ],
      "metadata": {
        "_uuid": "f94870f1682c45b0e4ea378d287302656af3cf8e",
        "id": "g2jNt52Rp1nY"
      }
    },
    {
      "cell_type": "code",
      "source": [
        "from google.colab import drive\n",
        "drive.mount('/content/drive')"
      ],
      "metadata": {
        "colab": {
          "base_uri": "https://localhost:8080/"
        },
        "id": "r1BihzMAc_dJ",
        "outputId": "aa1e8be4-c461-40ce-c0ec-c84abdf54f88"
      },
      "execution_count": null,
      "outputs": [
        {
          "output_type": "stream",
          "name": "stdout",
          "text": [
            "Drive already mounted at /content/drive; to attempt to forcibly remount, call drive.mount(\"/content/drive\", force_remount=True).\n"
          ]
        }
      ]
    },
    {
      "cell_type": "code",
      "source": [
        "train = pd.read_csv('/content/drive/MyDrive/Copy of train.csv')\n",
        "test = pd.read_csv('/content/drive/MyDrive/Copy of test.csv')\n",
        "sub = pd.read_csv('/content/drive/MyDrive/Copy of sample_submission.csv')"
      ],
      "metadata": {
        "execution": {
          "iopub.status.busy": "2023-05-30T13:36:27.341562Z",
          "iopub.execute_input": "2023-05-30T13:36:27.341895Z",
          "iopub.status.idle": "2023-05-30T13:36:33.751175Z",
          "shell.execute_reply.started": "2023-05-30T13:36:27.341836Z",
          "shell.execute_reply": "2023-05-30T13:36:33.750294Z"
        },
        "trusted": true,
        "id": "jAUEqeo_p1nY"
      },
      "execution_count": null,
      "outputs": []
    },
    {
      "cell_type": "code",
      "source": [
        "print(f\"Training data size is {train.shape}\\nTesting data size is {test.shape}\")"
      ],
      "metadata": {
        "execution": {
          "iopub.status.busy": "2023-05-30T13:36:37.017930Z",
          "iopub.execute_input": "2023-05-30T13:36:37.018285Z",
          "iopub.status.idle": "2023-05-30T13:36:37.024349Z",
          "shell.execute_reply.started": "2023-05-30T13:36:37.018227Z",
          "shell.execute_reply": "2023-05-30T13:36:37.023155Z"
        },
        "trusted": true,
        "colab": {
          "base_uri": "https://localhost:8080/"
        },
        "id": "O5mhCTJip1nY",
        "outputId": "405516b9-a0c6-4870-82c0-8b660b8fa3d7"
      },
      "execution_count": null,
      "outputs": [
        {
          "output_type": "stream",
          "name": "stdout",
          "text": [
            "Training data size is (42000, 785)\n",
            "Testing data size is (28000, 784)\n"
          ]
        }
      ]
    },
    {
      "cell_type": "markdown",
      "source": [
        "**Set data features and labels**"
      ],
      "metadata": {
        "id": "vT3sQM35p1nY"
      }
    },
    {
      "cell_type": "code",
      "source": [
        "X = train.drop(columns=['label']).values\n",
        "y = train['label'].values\n",
        "y.reshape((42000,1))"
      ],
      "metadata": {
        "execution": {
          "iopub.status.busy": "2023-05-30T13:36:39.661470Z",
          "iopub.execute_input": "2023-05-30T13:36:39.661876Z",
          "iopub.status.idle": "2023-05-30T13:36:39.853976Z",
          "shell.execute_reply.started": "2023-05-30T13:36:39.661806Z",
          "shell.execute_reply": "2023-05-30T13:36:39.852421Z"
        },
        "trusted": true,
        "colab": {
          "base_uri": "https://localhost:8080/"
        },
        "id": "LzzT0HzSp1nZ",
        "outputId": "63117978-203a-41ff-f120-8bcf62f56f1b"
      },
      "execution_count": null,
      "outputs": [
        {
          "output_type": "execute_result",
          "data": {
            "text/plain": [
              "array([[1],\n",
              "       [0],\n",
              "       [1],\n",
              "       ...,\n",
              "       [7],\n",
              "       [6],\n",
              "       [9]])"
            ]
          },
          "metadata": {},
          "execution_count": 5
        }
      ]
    },
    {
      "cell_type": "markdown",
      "source": [
        "## 2.2 Normalization"
      ],
      "metadata": {
        "id": "wN8OzFUpp1nZ"
      }
    },
    {
      "cell_type": "markdown",
      "source": [
        "The activation values of X range from 0 to 255.\n",
        "Normalize them to have a range of 0 to 1\n",
        "\n"
      ],
      "metadata": {
        "id": "cSLENzq6p1nZ"
      }
    },
    {
      "cell_type": "code",
      "source": [
        "X = X/255.0"
      ],
      "metadata": {
        "execution": {
          "iopub.status.busy": "2023-05-30T13:36:43.087276Z",
          "iopub.execute_input": "2023-05-30T13:36:43.087586Z",
          "iopub.status.idle": "2023-05-30T13:36:43.327014Z",
          "shell.execute_reply.started": "2023-05-30T13:36:43.087534Z",
          "shell.execute_reply": "2023-05-30T13:36:43.326084Z"
        },
        "trusted": true,
        "id": "I_ohF5YMp1na"
      },
      "execution_count": null,
      "outputs": []
    },
    {
      "cell_type": "markdown",
      "source": [
        "## 2.3 Reshape"
      ],
      "metadata": {
        "id": "BmRMh_2bp1na"
      }
    },
    {
      "cell_type": "code",
      "source": [
        "# Reshape image in 3 dimensions (height = 28px, width = 28px , canal = 1)\n",
        "# canal = 1 => For gray scale\n",
        "# desired X.shape = (42000, 28, 28, 1)\n",
        "X = X.reshape((42000,28,28,1))\n"
      ],
      "metadata": {
        "execution": {
          "iopub.status.busy": "2023-05-30T13:36:44.643672Z",
          "iopub.execute_input": "2023-05-30T13:36:44.643985Z",
          "iopub.status.idle": "2023-05-30T13:36:44.648329Z",
          "shell.execute_reply.started": "2023-05-30T13:36:44.643928Z",
          "shell.execute_reply": "2023-05-30T13:36:44.647270Z"
        },
        "trusted": true,
        "id": "SeA3Saobp1na"
      },
      "execution_count": null,
      "outputs": []
    },
    {
      "cell_type": "markdown",
      "source": [
        "## 2.4 Label encoding"
      ],
      "metadata": {
        "id": "2EOA8NLfp1na"
      }
    },
    {
      "cell_type": "markdown",
      "source": [
        "**One-Hot Encoding**"
      ],
      "metadata": {
        "id": "gWkiXWp4p1na"
      }
    },
    {
      "cell_type": "code",
      "source": [
        "# Encode labels to one hot vectors (ex : 2 -> [0,0,1,0,0,0,0,0,0,0])\n",
        "y =to_categorical(y,num_classes=10)\n",
        "# previous y.shape = (42000, 1)\n",
        "\n",
        "print(f\"Label size {y.shape}\")"
      ],
      "metadata": {
        "execution": {
          "iopub.status.busy": "2023-05-30T13:36:46.972062Z",
          "iopub.execute_input": "2023-05-30T13:36:46.972388Z",
          "iopub.status.idle": "2023-05-30T13:36:46.978845Z",
          "shell.execute_reply.started": "2023-05-30T13:36:46.972334Z",
          "shell.execute_reply": "2023-05-30T13:36:46.978045Z"
        },
        "trusted": true,
        "colab": {
          "base_uri": "https://localhost:8080/"
        },
        "id": "1zsH-tgCp1nb",
        "outputId": "e4e185a4-20e0-4812-e6e6-b10c2d1c3ad3"
      },
      "execution_count": null,
      "outputs": [
        {
          "output_type": "stream",
          "name": "stdout",
          "text": [
            "Label size (42000, 10)\n"
          ]
        }
      ]
    },
    {
      "cell_type": "markdown",
      "source": [
        "Labels are 10 digits numbers from 0 to 9. We need to encode these lables to one hot vectors (ex : 2 -> [0,0,1,0,0,0,0,0,0,0])."
      ],
      "metadata": {
        "id": "GW1ekuA8p1nb"
      }
    },
    {
      "cell_type": "markdown",
      "source": [
        "## 2.5 Split training and valdiation set"
      ],
      "metadata": {
        "id": "ZR4kfsiDp1nb"
      }
    },
    {
      "cell_type": "code",
      "source": [
        "# Split the train and the validation set for the fitting\n",
        "X_train, X_test, y_train, y_test = train_test_split(X, y, test_size=0.1, random_state=0)"
      ],
      "metadata": {
        "execution": {
          "iopub.status.busy": "2023-05-30T13:36:50.039409Z",
          "iopub.execute_input": "2023-05-30T13:36:50.039730Z",
          "iopub.status.idle": "2023-05-30T13:36:50.699979Z",
          "shell.execute_reply.started": "2023-05-30T13:36:50.039673Z",
          "shell.execute_reply": "2023-05-30T13:36:50.699165Z"
        },
        "trusted": true,
        "id": "T7n4h2pDp1nb"
      },
      "execution_count": null,
      "outputs": []
    },
    {
      "cell_type": "code",
      "source": [
        "X_train.shape, X_test.shape, y_train.shape, y_test.shape"
      ],
      "metadata": {
        "colab": {
          "base_uri": "https://localhost:8080/"
        },
        "id": "37RqS_e51EIq",
        "outputId": "223962b7-fec3-4e64-cec3-6b00f2a64933"
      },
      "execution_count": null,
      "outputs": [
        {
          "output_type": "execute_result",
          "data": {
            "text/plain": [
              "((37800, 28, 28, 1), (4200, 28, 28, 1), (37800, 10), (4200, 10))"
            ]
          },
          "metadata": {},
          "execution_count": 10
        }
      ]
    },
    {
      "cell_type": "markdown",
      "source": [
        "**Data Visualization**"
      ],
      "metadata": {
        "_uuid": "d9f73cd8890cc89d03837ef47210b27b94b156dc",
        "id": "5NjgI5nFp1nc"
      }
    },
    {
      "cell_type": "code",
      "source": [
        "X_train__ = X_train.reshape(X_train.shape[0], 28, 28)\n",
        "\n",
        "fig, axis = plt.subplots(1, 4, figsize=(20, 10))\n",
        "for i, ax in enumerate(axis.flat):\n",
        "    ax.imshow(X_train__[i], cmap='binary')\n",
        "    digit = y_train[i].argmax()\n",
        "    ax.set(title = f\"Real Number is {digit}\");"
      ],
      "metadata": {
        "_uuid": "d00d9b96668d11a33c272b2b64cbb4397dcbba89",
        "scrolled": true,
        "execution": {
          "iopub.status.busy": "2023-05-30T13:36:54.243937Z",
          "iopub.execute_input": "2023-05-30T13:36:54.244302Z",
          "iopub.status.idle": "2023-05-30T13:36:55.235756Z",
          "shell.execute_reply.started": "2023-05-30T13:36:54.244244Z",
          "shell.execute_reply": "2023-05-30T13:36:55.234929Z"
        },
        "trusted": true,
        "colab": {
          "base_uri": "https://localhost:8080/",
          "height": 362
        },
        "id": "_yeEL8yxp1nc",
        "outputId": "dd1c8655-8065-426d-bb2a-01a0fd9f4611"
      },
      "execution_count": null,
      "outputs": [
        {
          "output_type": "display_data",
          "data": {
            "text/plain": [
              "<Figure size 2000x1000 with 4 Axes>"
            ],
            "image/png": "[encoded data removed]"
          },
          "metadata": {}
        }
      ]
    },
    {
      "cell_type": "markdown",
      "source": [
        "**Normalization**"
      ],
      "metadata": {
        "_uuid": "a4f73e65842423bae7cfce945cd4dc0e367c180a",
        "id": "_MyDZGckp1nc"
      }
    },
    {
      "cell_type": "code",
      "source": [
        "mean = np.mean(X_train)\n",
        "\n",
        "std = np.std(X_train)\n",
        "\n",
        "def standardize(x):\n",
        "    return (x-mean)/std # Normalize x using mean and std"
      ],
      "metadata": {
        "_uuid": "82bddf135bfad1d3f91b52cd0cadb62e55db964b",
        "execution": {
          "iopub.status.busy": "2023-05-30T13:36:59.339191Z",
          "iopub.execute_input": "2023-05-30T13:36:59.339522Z",
          "iopub.status.idle": "2023-05-30T13:36:59.595246Z",
          "shell.execute_reply.started": "2023-05-30T13:36:59.339469Z",
          "shell.execute_reply": "2023-05-30T13:36:59.594446Z"
        },
        "trusted": true,
        "id": "ljKCdpNRp1nd"
      },
      "execution_count": null,
      "outputs": []
    },
    {
      "cell_type": "markdown",
      "source": [
        "# 3. CNN\n",
        "## 3.1 Define the model"
      ],
      "metadata": {
        "id": "hkZMrZTgp1nd"
      }
    },
    {
      "cell_type": "markdown",
      "source": [],
      "metadata": {
        "id": "p0H9fDmJp1nd"
      }
    },
    {
      "cell_type": "markdown",
      "source": [
        "**Model Definition**"
      ],
      "metadata": {
        "_uuid": "57904be2d2935cece025811c128ca6738cf86800",
        "id": "dI80Ue2xp1nd"
      }
    },
    {
      "cell_type": "code",
      "source": [
        "\n",
        "\n",
        "model=Sequential()\n",
        "\n",
        "model.add(Conv2D(filters=64, kernel_size = (3,3), activation=\"relu\", input_shape=(28,28,1)))\n",
        "model.add(Conv2D(filters=64, kernel_size = (3,3), activation=\"relu\"))\n",
        "model.add(MaxPooling2D(pool_size=(2,2)))\n",
        "model.add(BatchNormalization())\n",
        "\n",
        "model.add(Conv2D(filters=128, kernel_size = (3,3), activation=\"relu\"))\n",
        "model.add(Conv2D(filters=128, kernel_size = (3,3), activation=\"relu\"))\n",
        "model.add(MaxPooling2D(pool_size=(2,2)))\n",
        "model.add(BatchNormalization())\n",
        "\n",
        "model.add(Conv2D(filters=256, kernel_size = (3,3), activation=\"relu\"))\n",
        "model.add(MaxPooling2D(pool_size=(2,2)))\n",
        "model.add(BatchNormalization())\n",
        "\n",
        "model.add(Flatten())\n",
        "model.add(Dense(512,activation=\"relu\"))\n",
        "\n",
        "model.add(Dense(10,activation=\"softmax\"))\n",
        "\n",
        "model.compile(loss=\"categorical_crossentropy\", optimizer=\"adam\", metrics=[\"accuracy\"])"
      ],
      "metadata": {
        "_uuid": "e935c979b0715a68bc8739e6a31f5d9a8189a750",
        "execution": {
          "iopub.status.busy": "2023-05-30T13:37:03.545614Z",
          "iopub.execute_input": "2023-05-30T13:37:03.545937Z",
          "iopub.status.idle": "2023-05-30T13:37:05.671867Z",
          "shell.execute_reply.started": "2023-05-30T13:37:03.545879Z",
          "shell.execute_reply": "2023-05-30T13:37:05.671134Z"
        },
        "trusted": true,
        "id": "eFoBK3uGp1nd"
      },
      "execution_count": null,
      "outputs": []
    },
    {
      "cell_type": "code",
      "source": [
        "model.summary()"
      ],
      "metadata": {
        "execution": {
          "iopub.status.busy": "2023-05-30T13:37:06.398974Z",
          "iopub.execute_input": "2023-05-30T13:37:06.399326Z",
          "iopub.status.idle": "2023-05-30T13:37:06.412585Z",
          "shell.execute_reply.started": "2023-05-30T13:37:06.399271Z",
          "shell.execute_reply": "2023-05-30T13:37:06.411233Z"
        },
        "trusted": true,
        "colab": {
          "base_uri": "https://localhost:8080/"
        },
        "id": "1fPtpp92p1ne",
        "outputId": "93265282-a9c7-48a4-c57f-2b8f81068f7d"
      },
      "execution_count": null,
      "outputs": [
        {
          "output_type": "stream",
          "name": "stdout",
          "text": [
            "Model: \"sequential\"\n",
            "_________________________________________________________________\n",
            " Layer (type)                Output Shape              Param #   \n",
            "=================================================================\n",
            " conv2d (Conv2D)             (None, 26, 26, 64)        640       \n",
            "                                                                 \n",
            " conv2d_1 (Conv2D)           (None, 24, 24, 64)        36928     \n",
            "                                                                 \n",
            " max_pooling2d (MaxPooling2  (None, 12, 12, 64)        0         \n",
            " D)                                                              \n",
            "                                                                 \n",
            " batch_normalization (Batch  (None, 12, 12, 64)        256       \n",
            " Normalization)                                                  \n",
            "                                                                 \n",
            " conv2d_2 (Conv2D)           (None, 10, 10, 128)       73856     \n",
            "                                                                 \n",
            " conv2d_3 (Conv2D)           (None, 8, 8, 128)         147584    \n",
            "                                                                 \n",
            " max_pooling2d_1 (MaxPoolin  (None, 4, 4, 128)         0         \n",
            " g2D)                                                            \n",
            "                                                                 \n",
            " batch_normalization_1 (Bat  (None, 4, 4, 128)         512       \n",
            " chNormalization)                                                \n",
            "                                                                 \n",
            " conv2d_4 (Conv2D)           (None, 2, 2, 256)         295168    \n",
            "                                                                 \n",
            " max_pooling2d_2 (MaxPoolin  (None, 1, 1, 256)         0         \n",
            " g2D)                                                            \n",
            "                                                                 \n",
            " batch_normalization_2 (Bat  (None, 1, 1, 256)         1024      \n",
            " chNormalization)                                                \n",
            "                                                                 \n",
            " flatten (Flatten)           (None, 256)               0         \n",
            "                                                                 \n",
            " dense (Dense)               (None, 512)               131584    \n",
            "                                                                 \n",
            " dense_1 (Dense)             (None, 10)                5130      \n",
            "                                                                 \n",
            "=================================================================\n",
            "Total params: 692682 (2.64 MB)\n",
            "Trainable params: 691786 (2.64 MB)\n",
            "Non-trainable params: 896 (3.50 KB)\n",
            "_________________________________________________________________\n"
          ]
        }
      ]
    },
    {
      "cell_type": "markdown",
      "source": [
        "## 3.3 Model training"
      ],
      "metadata": {
        "_uuid": "5a9a1f37ef33b24887f97e7992b7d24567602eb8",
        "id": "FY_R4fpXp1nf"
      }
    },
    {
      "cell_type": "code",
      "source": [
        "model.fit(X, y, batch_size=128, validation_split=0.2, epochs=15)\n",
        "# Number of images in X = 42000\n",
        "# Validation split = 20%, so the number of images undergoing training = 80% * 42000 = 33600 = 263 * 128"
      ],
      "metadata": {
        "execution": {
          "iopub.status.busy": "2023-05-30T13:37:45.843235Z",
          "iopub.execute_input": "2023-05-30T13:37:45.843554Z",
          "iopub.status.idle": "2023-05-30T13:38:29.115977Z",
          "shell.execute_reply.started": "2023-05-30T13:37:45.843496Z",
          "shell.execute_reply": "2023-05-30T13:38:29.115291Z"
        },
        "trusted": true,
        "colab": {
          "base_uri": "https://localhost:8080/"
        },
        "id": "cCT1Sbqrp1nf",
        "outputId": "379eb9e8-5305-40f3-fd69-5e58810b9c23"
      },
      "execution_count": null,
      "outputs": [
        {
          "output_type": "stream",
          "name": "stdout",
          "text": [
            "Epoch 1/15\n",
            "263/263 [==============================] - 10s 19ms/step - loss: 0.1041 - accuracy: 0.9684 - val_loss: 4.4393 - val_accuracy: 0.1131\n",
            "Epoch 2/15\n",
            "263/263 [==============================] - 3s 13ms/step - loss: 0.0375 - accuracy: 0.9877 - val_loss: 0.0842 - val_accuracy: 0.9742\n",
            "Epoch 3/15\n",
            "263/263 [==============================] - 3s 13ms/step - loss: 0.0246 - accuracy: 0.9923 - val_loss: 0.0840 - val_accuracy: 0.9770\n",
            "Epoch 4/15\n",
            "263/263 [==============================] - 4s 16ms/step - loss: 0.0202 - accuracy: 0.9937 - val_loss: 0.0629 - val_accuracy: 0.9855\n",
            "Epoch 5/15\n",
            "263/263 [==============================] - 3s 13ms/step - loss: 0.0186 - accuracy: 0.9938 - val_loss: 0.0623 - val_accuracy: 0.9851\n",
            "Epoch 6/15\n",
            "263/263 [==============================] - 3s 13ms/step - loss: 0.0142 - accuracy: 0.9954 - val_loss: 0.0481 - val_accuracy: 0.9883\n",
            "Epoch 7/15\n",
            "263/263 [==============================] - 4s 15ms/step - loss: 0.0087 - accuracy: 0.9968 - val_loss: 0.0583 - val_accuracy: 0.9868\n",
            "Epoch 8/15\n",
            "263/263 [==============================] - 4s 15ms/step - loss: 0.0130 - accuracy: 0.9959 - val_loss: 0.0513 - val_accuracy: 0.9893\n",
            "Epoch 9/15\n",
            "263/263 [==============================] - 3s 13ms/step - loss: 0.0196 - accuracy: 0.9940 - val_loss: 0.0686 - val_accuracy: 0.9874\n",
            "Epoch 10/15\n",
            "263/263 [==============================] - 4s 13ms/step - loss: 0.0104 - accuracy: 0.9970 - val_loss: 0.0399 - val_accuracy: 0.9915\n",
            "Epoch 11/15\n",
            "263/263 [==============================] - 4s 15ms/step - loss: 0.0083 - accuracy: 0.9970 - val_loss: 0.0607 - val_accuracy: 0.9892\n",
            "Epoch 12/15\n",
            "263/263 [==============================] - 4s 14ms/step - loss: 0.0067 - accuracy: 0.9980 - val_loss: 0.0497 - val_accuracy: 0.9907\n",
            "Epoch 13/15\n",
            "263/263 [==============================] - 3s 13ms/step - loss: 0.0054 - accuracy: 0.9985 - val_loss: 0.0523 - val_accuracy: 0.9898\n",
            "Epoch 14/15\n",
            "263/263 [==============================] - 3s 13ms/step - loss: 0.0097 - accuracy: 0.9970 - val_loss: 0.0500 - val_accuracy: 0.9908\n",
            "Epoch 15/15\n",
            "263/263 [==============================] - 4s 16ms/step - loss: 0.0135 - accuracy: 0.9955 - val_loss: 0.0737 - val_accuracy: 0.9882\n"
          ]
        },
        {
          "output_type": "execute_result",
          "data": {
            "text/plain": [
              "<keras.src.callbacks.History at 0x7bc3b109e1d0>"
            ]
          },
          "metadata": {},
          "execution_count": 15
        }
      ]
    },
    {
      "cell_type": "markdown",
      "source": [
        "## 4.2 Confusion matrix"
      ],
      "metadata": {
        "id": "487sAxmxp1ns"
      }
    },
    {
      "cell_type": "code",
      "source": [
        "fig = plt.figure(figsize=(10, 10)) # Set Figure\n",
        "\n",
        "y_pred = model.predict(X_test) # Predict class probabilities as 2 => [0.1, 0, 0.9, 0, 0, 0, 0, 0, 0, 0]\n",
        "\n",
        "Y_pred = np.argmax(y_pred, 1) # Decode Predicted labels\n",
        "Y_test = np.argmax(y_test, 1) # Decode labels\n",
        "\n",
        "mat = confusion_matrix(Y_test, Y_pred) # Confusion matrix\n",
        "\n",
        "# Plot Confusion matrix\n",
        "sns.heatmap(mat.T, square=True, annot=True, cbar=False, cmap=plt.cm.Blues, fmt='.0f')\n",
        "plt.xlabel('Predicted Values')\n",
        "plt.ylabel('True Values');\n",
        "plt.show();"
      ],
      "metadata": {
        "execution": {
          "iopub.status.busy": "2023-05-30T13:40:11.698887Z",
          "iopub.execute_input": "2023-05-30T13:40:11.699266Z",
          "iopub.status.idle": "2023-05-30T13:40:12.734065Z",
          "shell.execute_reply.started": "2023-05-30T13:40:11.699203Z",
          "shell.execute_reply": "2023-05-30T13:40:12.733311Z"
        },
        "trusted": true,
        "id": "xjjyQgq7p1ns",
        "colab": {
          "base_uri": "https://localhost:8080/",
          "height": 868
        },
        "outputId": "8f70c4e1-b7c0-4471-c92e-e5c59a3b507c"
      },
      "execution_count": null,
      "outputs": [
        {
          "output_type": "stream",
          "name": "stdout",
          "text": [
            "132/132 [==============================] - 1s 5ms/step\n"
          ]
        },
        {
          "output_type": "display_data",
          "data": {
            "text/plain": [
              "<Figure size 1000x1000 with 1 Axes>"
            ],
            "image/png": "[encoded data removed]"
          },
          "metadata": {}
        }
      ]
    },
    {
      "cell_type": "markdown",
      "source": [
        "# 5. Prediction and submission\n",
        "\n",
        "\n"
      ],
      "metadata": {
        "id": "CB3OhcGhp1nt"
      }
    },
    {
      "cell_type": "markdown",
      "source": [
        "## 5.1 Prediction validation results"
      ],
      "metadata": {
        "id": "YY4ZwwcAp1nt"
      }
    },
    {
      "cell_type": "code",
      "source": [
        "y_pred = model.predict(X_test)\n",
        "X_test__ = X_test.reshape(X_test.shape[0], 28, 28)\n",
        "\n",
        "fig, axis = plt.subplots(4, 4, figsize=(12, 14))\n",
        "for i, ax in enumerate(axis.flat):\n",
        "    ax.imshow(X_test__[i], cmap='binary')\n",
        "    ax.set(title = f\"Real Number is {y_test[i].argmax()}\\nPredict Number is {y_pred[i].argmax()}\");"
      ],
      "metadata": {
        "execution": {
          "iopub.status.busy": "2023-05-30T13:40:17.596620Z",
          "iopub.execute_input": "2023-05-30T13:40:17.596966Z",
          "iopub.status.idle": "2023-05-30T13:40:20.645239Z",
          "shell.execute_reply.started": "2023-05-30T13:40:17.596905Z",
          "shell.execute_reply": "2023-05-30T13:40:20.644132Z"
        },
        "trusted": true,
        "id": "ph8MbAPXp1nt",
        "colab": {
          "base_uri": "https://localhost:8080/",
          "height": 1000
        },
        "outputId": "aa6c6fb5-afcf-46d4-9888-cedd2d5e66ae"
      },
      "execution_count": null,
      "outputs": [
        {
          "output_type": "stream",
          "name": "stdout",
          "text": [
            "132/132 [==============================] - 0s 2ms/step\n"
          ]
        },
        {
          "output_type": "display_data",
          "data": {
            "text/plain": [
              "<Figure size 1200x1400 with 16 Axes>"
            ],
            "image/png": "[encoded data removed]"
          },
          "metadata": {}
        }
      ]
    },
    {
      "cell_type": "code",
      "source": [
        "from sklearn.metrics import classification_report\n",
        "report = classification_report(Y_test, Y_pred)\n",
        "print(report)\n"
      ],
      "metadata": {
        "colab": {
          "base_uri": "https://localhost:8080/"
        },
        "id": "zz16AywUZ7aV",
        "outputId": "af6180ec-d698-45bc-9030-a3bdc0b8277e"
      },
      "execution_count": null,
      "outputs": [
        {
          "output_type": "stream",
          "name": "stdout",
          "text": [
            "              precision    recall  f1-score   support\n",
            "\n",
            "           0       1.00      1.00      1.00       422\n",
            "           1       1.00      1.00      1.00       473\n",
            "           2       1.00      1.00      1.00       409\n",
            "           3       1.00      1.00      1.00       426\n",
            "           4       1.00      1.00      1.00       429\n",
            "           5       0.99      1.00      0.99       382\n",
            "           6       1.00      0.99      0.99       412\n",
            "           7       0.99      1.00      1.00       469\n",
            "           8       0.98      0.99      0.99       384\n",
            "           9       1.00      0.97      0.99       394\n",
            "\n",
            "    accuracy                           1.00      4200\n",
            "   macro avg       1.00      1.00      1.00      4200\n",
            "weighted avg       1.00      1.00      1.00      4200\n",
            "\n"
          ]
        }
      ]
    }
  ]
}